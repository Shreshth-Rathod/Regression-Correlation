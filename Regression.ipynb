{
 "cells": [
  {
   "cell_type": "markdown",
   "metadata": {},
   "source": [
    "# Homework 2: Correlation & Regression"
   ]
  },
  {
   "cell_type": "code",
   "execution_count": 1,
   "metadata": {},
   "outputs": [],
   "source": [
    "import numpy as np\n",
    "import math"
   ]
  },
  {
   "cell_type": "code",
   "execution_count": 2,
   "metadata": {},
   "outputs": [],
   "source": [
    "def find_mean(num_list):\n",
    "    \n",
    "    accum = 0\n",
    "    avg = 0\n",
    "    for num in num_list:\n",
    "        accum += num\n",
    "    avg = accum/len(num_list)\n",
    "    \n",
    "    return avg"
   ]
  },
  {
   "cell_type": "code",
   "execution_count": 3,
   "metadata": {},
   "outputs": [],
   "source": [
    "def find_Covariance(list_X, list_Y):\n",
    "    \n",
    "    covariance = 0\n",
    "    accum = 0\n",
    "    mean_X = find_mean(list_X)\n",
    "    mean_Y = find_mean(list_Y)\n",
    "    if len(list_X) == len(list_Y):\n",
    "        for i in range(len(list_X)):\n",
    "            accum += (list_X[i]-mean_X)*(list_Y[i]-mean_Y)\n",
    "            \n",
    "        covariance = accum/len(list_X)\n",
    "    \n",
    "    return covariance"
   ]
  },
  {
   "cell_type": "code",
   "execution_count": 4,
   "metadata": {},
   "outputs": [],
   "source": [
    "def find_variance(num_list):\n",
    "    \n",
    "    mu = find_mean(num_list)\n",
    "    accum = 0\n",
    "    for num in num_list:\n",
    "        accum += pow(num - mu, 2)\n",
    "    \n",
    "    variance = accum / len(num_list)  # To find sample variance add a negative 1 in the denominator\n",
    "    \n",
    "    return variance\n",
    "\n",
    "def find_standardDeviation(num_list):\n",
    "    \n",
    "    variance = find_variance(num_list)\n",
    "    std = pow(variance, 0.5)\n",
    "    \n",
    "    return std"
   ]
  },
  {
   "cell_type": "code",
   "execution_count": 5,
   "metadata": {},
   "outputs": [],
   "source": [
    "def find_Correlation(list_X, list_Y):\n",
    "    \n",
    "    if len(list_X) == len(list_Y):\n",
    "        corr = 0\n",
    "        covariance = find_Covariance(list_X, list_Y)\n",
    "        std_X = find_standardDeviation(list_X)\n",
    "        std_Y = find_standardDeviation(list_Y)\n",
    "        corr = covariance/(std_X * std_Y)\n",
    "\n",
    "    return corr"
   ]
  },
  {
   "cell_type": "code",
   "execution_count": 6,
   "metadata": {},
   "outputs": [],
   "source": [
    "def Linear_Regression_Model(list_X, list_Y):\n",
    "    \n",
    "    if len(list_X) == len(list_Y):\n",
    "        mean_X = find_mean(list_X)\n",
    "        mean_Y = find_mean(list_Y)\n",
    "        std_X = find_standardDeviation(list_X)\n",
    "        std_Y = find_standardDeviation(list_Y)  \n",
    "        corr = find_Correlation(list_X, list_Y)\n",
    "\n",
    "        a_slope = corr * (std_Y/std_X)\n",
    "        b_intercept = mean_Y - (a_slope * mean_X)\n",
    "    \n",
    "    return [a_slope, b_intercept]"
   ]
  },
  {
   "cell_type": "code",
   "execution_count": 7,
   "metadata": {},
   "outputs": [],
   "source": [
    "def find_Residual(list_X, list_Y):\n",
    "    \n",
    "    residual = 0\n",
    "    predicted_y = 0\n",
    "    actual_y = 0\n",
    "    temp_residual = 0\n",
    "    \n",
    "    if len(list_X) == len(list_Y):\n",
    "        lm = Linear_Regression_Model(list_X, list_Y)\n",
    "        a = lm[0]\n",
    "        b = lm[1]\n",
    "        mean_X = find_mean(list_X)\n",
    "        mean_Y = find_mean(list_Y)\n",
    "    \n",
    "        for i in range(len(list_X)):\n",
    "            actual_y = list_Y[i]\n",
    "            predicted_y = (((mean_Y - b) * list_X[i]) / mean_X) + b\n",
    "            temp_residual = actual_y - predicted_y\n",
    "            residual += pow(temp_residual , 2)\n",
    "    \n",
    "    return residual"
   ]
  },
  {
   "cell_type": "code",
   "execution_count": 8,
   "metadata": {},
   "outputs": [],
   "source": [
    "def find_Coeff_Of_Determination(list_X, list_Y):\n",
    "    \n",
    "    residual_1 = 0\n",
    "    residual_2 = 0\n",
    "    predicted_y = 0\n",
    "    actual_y = 0\n",
    "    temp1_residual = 0\n",
    "    temp2_residual = 0\n",
    "    Coeff_Determination = 0\n",
    "    \n",
    "    if len(list_X) == len(list_Y):\n",
    "        lm = Linear_Regression_Model(list_X, list_Y)\n",
    "        a = lm[0]\n",
    "        b = lm[1]\n",
    "        mean_X = find_mean(list_X)\n",
    "        mean_Y = find_mean(list_Y)\n",
    "    \n",
    "        for i in range(len(list_X)):\n",
    "            actual_y = list_Y[i]\n",
    "            predicted_y = (((mean_Y - b) * list_X[i]) / mean_X) + b\n",
    "            temp1_residual = actual_y - predicted_y\n",
    "            residual_1 += pow(temp1_residual , 2)\n",
    "            temp_2_residual = actual_y - mean_Y\n",
    "            residual_2 += pow(temp_2_residual, 2)\n",
    "            \n",
    "        Coeff_Determination = 1 - (residual_1 / residual_2)\n",
    "    \n",
    "    return Coeff_Determination"
   ]
  },
  {
   "cell_type": "code",
   "execution_count": 9,
   "metadata": {},
   "outputs": [],
   "source": [
    "def find_Adjusted_R2(list_X, list_Y):\n",
    "    \n",
    "    residual_1 = 0\n",
    "    residual_2 = 0\n",
    "    predicted_y = 0\n",
    "    actual_y = 0\n",
    "    temp1_residual = 0\n",
    "    temp2_residual = 0\n",
    "    adjusted_r2 = 0\n",
    "    n = 0\n",
    "    \n",
    "    if len(list_X) == len(list_Y):\n",
    "        lm = Linear_Regression_Model(list_X, list_Y)\n",
    "        a = lm[0]\n",
    "        b = lm[1]\n",
    "        mean_X = find_mean(list_X)\n",
    "        mean_Y = find_mean(list_Y)\n",
    "        n = len(list_X)\n",
    "        \n",
    "        for i in range(len(list_X)):\n",
    "            actual_y = list_Y[i]\n",
    "            predicted_y = (((mean_Y - b) * list_X[i]) / mean_X) + b\n",
    "            temp1_residual = actual_y - predicted_y\n",
    "            residual_1 += pow(temp1_residual , 2)\n",
    "            temp_2_residual = actual_y - mean_Y\n",
    "            residual_2 += pow(temp_2_residual, 2)\n",
    "    \n",
    "        residual_1 = residual_1 / (n - 2)\n",
    "        residual_2 = residual_2 / (n - 1)\n",
    "        adjusted_r2 = 1 - (residual_1 / residual_2)\n",
    "        \n",
    "    return adjusted_r2"
   ]
  },
  {
   "cell_type": "markdown",
   "metadata": {},
   "source": [
    "# -------------------------------Q1 ~ Q8-------------------------------"
   ]
  },
  {
   "cell_type": "code",
   "execution_count": 10,
   "metadata": {},
   "outputs": [
    {
     "name": "stdout",
     "output_type": "stream",
     "text": [
      "1.9852941176470589 0.45588235294117657 1.0735294117647058\n"
     ]
    }
   ],
   "source": [
    "lm = Linear_Regression_Model([5,6,4,3,2,2,1],[4,3,3,3,2,2,1])\n",
    "a = lm[0]\n",
    "b = lm[1]\n",
    "\n",
    "y = 2*a + b\n",
    "print(y,a,b)"
   ]
  },
  {
   "cell_type": "code",
   "execution_count": 11,
   "metadata": {},
   "outputs": [
    {
     "data": {
      "text/plain": [
       "1.2653061224489797"
      ]
     },
     "execution_count": 11,
     "metadata": {},
     "output_type": "execute_result"
    }
   ],
   "source": [
    "find_Covariance([5,6,4,3,2,2,1],[4,3,3,3,2,2,1])"
   ]
  },
  {
   "cell_type": "code",
   "execution_count": 12,
   "metadata": {},
   "outputs": [
    {
     "data": {
      "text/plain": [
       "0.8406055240472927"
      ]
     },
     "execution_count": 12,
     "metadata": {},
     "output_type": "execute_result"
    }
   ],
   "source": [
    "find_Correlation([5,6,4,3,2,2,1],[4,3,3,3,2,2,1])"
   ]
  },
  {
   "cell_type": "markdown",
   "metadata": {},
   "source": [
    "#### Expected GPA if a student studies 2 hours is 1.985"
   ]
  },
  {
   "cell_type": "code",
   "execution_count": 13,
   "metadata": {},
   "outputs": [
    {
     "data": {
      "text/plain": [
       "1.6764705882352942"
      ]
     },
     "execution_count": 13,
     "metadata": {},
     "output_type": "execute_result"
    }
   ],
   "source": [
    "find_Residual([5,6,4,3,2,2,1],[4,3,3,3,2,2,1])"
   ]
  },
  {
   "cell_type": "code",
   "execution_count": 14,
   "metadata": {},
   "outputs": [
    {
     "data": {
      "text/plain": [
       "0.7066176470588236"
      ]
     },
     "execution_count": 14,
     "metadata": {},
     "output_type": "execute_result"
    }
   ],
   "source": [
    "find_Coeff_Of_Determination([5,6,4,3,2,2,1],[4,3,3,3,2,2,1])"
   ]
  },
  {
   "cell_type": "code",
   "execution_count": 15,
   "metadata": {},
   "outputs": [
    {
     "data": {
      "text/plain": [
       "0.6479411764705882"
      ]
     },
     "execution_count": 15,
     "metadata": {},
     "output_type": "execute_result"
    }
   ],
   "source": [
    "find_Adjusted_R2([5,6,4,3,2,2,1],[4,3,3,3,2,2,1])"
   ]
  },
  {
   "cell_type": "markdown",
   "metadata": {},
   "source": [
    "# -------------------------------Q9 ~ Q15-------------------------------"
   ]
  },
  {
   "cell_type": "code",
   "execution_count": 16,
   "metadata": {},
   "outputs": [
    {
     "name": "stdout",
     "output_type": "stream",
     "text": [
      "2.830645161290323\n"
     ]
    }
   ],
   "source": [
    "lm = Linear_Regression_Model([2,5,2,3,7,6,8],[4,3,3,3,2,2,1])\n",
    "a = lm[0]\n",
    "b = lm[1]\n",
    "\n",
    "y = 4*a + b\n",
    "print(y)"
   ]
  },
  {
   "cell_type": "markdown",
   "metadata": {},
   "source": [
    "#### Expected GPA if a student plays games for 4 hours is 2.830"
   ]
  },
  {
   "cell_type": "code",
   "execution_count": 17,
   "metadata": {},
   "outputs": [
    {
     "data": {
      "text/plain": [
       "1.0483870967741937"
      ]
     },
     "execution_count": 17,
     "metadata": {},
     "output_type": "execute_result"
    }
   ],
   "source": [
    "find_Residual([2,5,2,3,7,6,8],[4,3,3,3,2,2,1])"
   ]
  },
  {
   "cell_type": "code",
   "execution_count": 18,
   "metadata": {},
   "outputs": [
    {
     "data": {
      "text/plain": [
       "0.8165322580645161"
      ]
     },
     "execution_count": 18,
     "metadata": {},
     "output_type": "execute_result"
    }
   ],
   "source": [
    "find_Coeff_Of_Determination([2,5,2,3,7,6,8],[4,3,3,3,2,2,1])"
   ]
  },
  {
   "cell_type": "code",
   "execution_count": 19,
   "metadata": {},
   "outputs": [
    {
     "data": {
      "text/plain": [
       "0.7798387096774193"
      ]
     },
     "execution_count": 19,
     "metadata": {},
     "output_type": "execute_result"
    }
   ],
   "source": [
    "find_Adjusted_R2([2,5,2,3,7,6,8],[4,3,3,3,2,2,1])"
   ]
  },
  {
   "cell_type": "markdown",
   "metadata": {},
   "source": [
    "# -------------------------------END-------------------------------"
   ]
  },
  {
   "cell_type": "code",
   "execution_count": 20,
   "metadata": {},
   "outputs": [
    {
     "data": {
      "text/plain": [
       "0.7510409442899901"
      ]
     },
     "execution_count": 20,
     "metadata": {},
     "output_type": "execute_result"
    }
   ],
   "source": [
    "find_Correlation([5,6,4,3,2,2],[4,3,3,3,2,1])"
   ]
  },
  {
   "cell_type": "code",
   "execution_count": 21,
   "metadata": {},
   "outputs": [
    {
     "name": "stdout",
     "output_type": "stream",
     "text": [
      "2.1125\n",
      "0.47500000000000003\n",
      "0.9249999999999998\n"
     ]
    }
   ],
   "source": [
    "lm = Linear_Regression_Model([5,6,4,3,2,2],[4,3,3,3,2,1])\n",
    "a = lm[0]\n",
    "b = lm[1]\n",
    "\n",
    "y = (2.5)*a + b\n",
    "print(y)\n",
    "print(a)\n",
    "print(b)"
   ]
  },
  {
   "cell_type": "code",
   "execution_count": 22,
   "metadata": {},
   "outputs": [
    {
     "data": {
      "text/plain": [
       "0.5640624999999999"
      ]
     },
     "execution_count": 22,
     "metadata": {},
     "output_type": "execute_result"
    }
   ],
   "source": [
    "find_Coeff_Of_Determination([5,6,4,3,2,2],[4,3,3,3,2,1])"
   ]
  },
  {
   "cell_type": "code",
   "execution_count": 23,
   "metadata": {},
   "outputs": [
    {
     "data": {
      "text/plain": [
       "0.455078125"
      ]
     },
     "execution_count": 23,
     "metadata": {},
     "output_type": "execute_result"
    }
   ],
   "source": [
    "find_Adjusted_R2([5,6,4,3,2,2],[4,3,3,3,2,1])"
   ]
  },
  {
   "cell_type": "code",
   "execution_count": 24,
   "metadata": {},
   "outputs": [
    {
     "data": {
      "text/plain": [
       "0.8173481728824539"
      ]
     },
     "execution_count": 24,
     "metadata": {},
     "output_type": "execute_result"
    }
   ],
   "source": [
    "find_Correlation([5,6,4,3,2,2],[4,3.5,3,3.1,2.5,1.5])"
   ]
  },
  {
   "cell_type": "code",
   "execution_count": 25,
   "metadata": {},
   "outputs": [
    {
     "name": "stdout",
     "output_type": "stream",
     "text": [
      "2.42875\n",
      "0.43250000000000005\n",
      "1.3475000000000001\n"
     ]
    }
   ],
   "source": [
    "lm = Linear_Regression_Model([5,6,4,3,2,2],[4,3.5,3,3.1,2.5,1.5])\n",
    "a = lm[0]\n",
    "b = lm[1]\n",
    "\n",
    "y = (2.5)*a + b\n",
    "print(y)\n",
    "print(a)\n",
    "print(b)"
   ]
  },
  {
   "cell_type": "code",
   "execution_count": 27,
   "metadata": {},
   "outputs": [
    {
     "data": {
      "text/plain": [
       "0.6680580357142857"
      ]
     },
     "execution_count": 27,
     "metadata": {},
     "output_type": "execute_result"
    }
   ],
   "source": [
    "find_Coeff_Of_Determination([5,6,4,3,2,2],[4,3.5,3,3.1,2.5,1.5])"
   ]
  },
  {
   "cell_type": "code",
   "execution_count": 28,
   "metadata": {},
   "outputs": [
    {
     "data": {
      "text/plain": [
       "0.5850725446428571"
      ]
     },
     "execution_count": 28,
     "metadata": {},
     "output_type": "execute_result"
    }
   ],
   "source": [
    "find_Adjusted_R2([5,6,4,3,2,2],[4,3.5,3,3.1,2.5,1.5])"
   ]
  },
  {
   "cell_type": "code",
   "execution_count": null,
   "metadata": {},
   "outputs": [],
   "source": []
  }
 ],
 "metadata": {
  "kernelspec": {
   "display_name": "Python 3",
   "language": "python",
   "name": "python3"
  },
  "language_info": {
   "codemirror_mode": {
    "name": "ipython",
    "version": 3
   },
   "file_extension": ".py",
   "mimetype": "text/x-python",
   "name": "python",
   "nbconvert_exporter": "python",
   "pygments_lexer": "ipython3",
   "version": "3.8.3"
  }
 },
 "nbformat": 4,
 "nbformat_minor": 4
}
